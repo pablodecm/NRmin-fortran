{
 "metadata": {
  "name": "",
  "signature": "sha256:7fed20803f09c3570af4eba3a14b09a1bf2225554fd23c8fdea9f43d0df32c11"
 },
 "nbformat": 3,
 "nbformat_minor": 0,
 "worksheets": [
  {
   "cells": [
    {
     "cell_type": "heading",
     "level": 1,
     "metadata": {},
     "source": [
      "Introducci\u00f3n"
     ]
    },
    {
     "cell_type": "markdown",
     "metadata": {},
     "source": [
      "El objetivo de este trabajo es la implementaci\u00f3n de un programa para el ajuste no lineal por m\u00ednimos cuadrados mediante minimizaci\u00f3n del $\\chi^2$\n",
      "por el m\u00e9todo de Newton-Raphson."
     ]
    },
    {
     "cell_type": "code",
     "collapsed": false,
     "input": [
      "!cd ../src; make"
     ],
     "language": "python",
     "metadata": {},
     "outputs": [
      {
       "output_type": "stream",
       "stream": "stdout",
       "text": [
        "gfortran -c -O3  mod_chi2.f90\r\n"
       ]
      },
      {
       "output_type": "stream",
       "stream": "stdout",
       "text": [
        "gfortran -c -O3  mod_random.f90\r\n"
       ]
      },
      {
       "output_type": "stream",
       "stream": "stdout",
       "text": [
        "gfortran -c -O3  NRmin_mod.f90\r\n"
       ]
      },
      {
       "output_type": "stream",
       "stream": "stdout",
       "text": [
        "gfortran -c -O3  NRmin.f90\r\n"
       ]
      },
      {
       "output_type": "stream",
       "stream": "stdout",
       "text": [
        "gfortran -o NRmin.bin -O3  mod_chi2.o mod_random.o NRmin_mod.o NRmin.o\r\n"
       ]
      }
     ],
     "prompt_number": 9
    },
    {
     "cell_type": "code",
     "collapsed": false,
     "input": [
      "!cd ../src; ./NRmin.bin"
     ],
     "language": "python",
     "metadata": {},
     "outputs": [
      {
       "output_type": "stream",
       "stream": "stdout",
       "text": [
        " --- importing data ---\r\n",
        " Opening file: ../data/exp.dat     \r\n",
        " # data entries          25\r\n",
        " --- minimization of \\Chi^2 by Newton-Raphson ---\r\n",
        "step    0: a =  1.00000  b =  1.00000 \\Chi^2 =   41.448\r\n",
        "step    1: a =  0.70055  b =  1.77710 \\Chi^2 =   17.354\r\n",
        "step    2: a =  0.71956  b =  1.73214 \\Chi^2 =   17.253\r\n",
        "step    3: a =  0.71976  b =  1.73195 \\Chi^2 =   17.253\r\n",
        "step    4: a =  0.71976  b =  1.73195 \\Chi^2 =   17.253\r\n",
        " convergence reached!\r\n",
        " --- estimating covariance matrix ---\r\n",
        " --- NR minimization final results --- \r\n",
        "a parameter: 0.71976 \\pm 0.11895\r\n",
        "b parameter: 1.73195 \\pm 0.15721\r\n",
        " --- goodness of fit ---\r\n",
        "Chi^2 value 17.25\r\n",
        "Degrees of freedom:  23\r\n",
        "Probability chi^2(real)>chi^2(obtained): 0.797\r\n",
        " --- MC simulation ---\r\n",
        " # simulations:       100000\r\n"
       ]
      },
      {
       "output_type": "stream",
       "stream": "stdout",
       "text": [
        "a parameter -> bias = -0.00264 error= 0.11788\r\n",
        "b parameter -> bias = -0.00640 error= 0.15758\r\n",
        " --- end of the program ---\r\n"
       ]
      }
     ],
     "prompt_number": 7
    }
   ],
   "metadata": {}
  }
 ]
}