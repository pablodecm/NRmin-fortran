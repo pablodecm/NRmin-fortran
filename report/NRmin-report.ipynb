{
 "metadata": {
  "name": "",
  "signature": "sha256:399a21e9da1b2fbfdfaefef98a9340bf629f6f1a9fbf2119c73ebbe6278af1b0"
 },
 "nbformat": 3,
 "nbformat_minor": 0,
 "worksheets": [
  {
   "cells": [
    {
     "cell_type": "heading",
     "level": 1,
     "metadata": {},
     "source": [
      "Introducci\u00f3n"
     ]
    },
    {
     "cell_type": "markdown",
     "metadata": {},
     "source": [
      "El objetivo de este trabajo es la implementaci\u00f3n de un programa para el ajuste no lineal por m\u00ednimos cuadrados mediante minimizaci\u00f3n del $\\chi^2$\n",
      "por el m\u00e9todo de Newton-Raphson.  Este programa se va a utiizar para ajustar unos datos experimentales a una funci\u00f3n $y=\\exp(ax)+bx^2$ para estimar los par\u00e1metros $a$ y $b$ \u00f3ptimos. Adicionalmente, se van a estimar las incertumbres del ajuste a partir de la matriz de informaci\u00f3n de Fisher y simulaciones Monte Carlo."
     ]
    },
    {
     "cell_type": "heading",
     "level": 1,
     "metadata": {},
     "source": [
      "Fundamento Te\u00f3rico"
     ]
    },
    {
     "cell_type": "markdown",
     "metadata": {},
     "source": [
      "Sea un conjunto de $N$ medidas $y_i$ (con errores $\\sigma_i$) para valores $x_i$ a los que se les quiere ajustar una funci\u00f3n $f(x_i;a_j)$ que predice los valores de $y_i$, donde $a_j$ con\n",
      "$j=1,..,p$ son par\u00e1metros desconocidos. Los valores \u00f3ptimos de los par\u00e1metros $a_j$, de acuerdo con el m\u00e9todo de m\u00ednimos cuadrados, para el ajuste se pueden estimar minimizando el $\\chi^2$:\n",
      "\n",
      "$$\\chi^2 = \\sum_{i=1}^{N} \\frac{[y_i -f(x_i;a_j)]^2}{\\sigma_i^2} $$\n",
      "\n",
      "que sigue aproximadamente una distribuci\u00f3n $\\chi^2$ con $N-p$ grados de libertad.\n",
      "\n",
      "La minimizaci\u00f3n para funciones sencillas se puede realizar de forma anal\u00edtica, sin embargo, en general se requiere la minimizaci\u00f3n num\u00e9rica del $\\chi^2$ para la obtenci\u00f3n de los\n",
      "par\u00e1metros. Existen multitud de m\u00e9todos de minimizaci\u00f3n num\u00e9rica, aunque el m\u00e9todo que se va utilizar en este trabajo es el Newton-Raphson (NR) que sirve para buscar el cero de la funci\u00f3n, por lo que se puede utilizar para buscar el cero de\n",
      "del gradiente de $\\chi^2$ con respecto a los par\u00e1metros.\n",
      "\n",
      "Sup\u00f3ngase una funci\u00f3n $f(x_1,...,x_n)$ que depende de varios\n",
      "parametros $\\bf{x}$, se puede desarrollar en serie en primer orden alrededor de un valor inicial $\\bf{x^{(0)}}$ seg\u00fan:\n",
      "\n",
      "$$\\nabla f({\\bf{x}}) = \\nabla f ({\\bf{x}}^{(0)}) \n",
      "+ \\bf{H}({\\bf{x}}- {\\bf{x}}^{(0)}) ~+~ ... $$ \n",
      "\n",
      "en donde $\\bf{x}$ es el vector de par\u00e1metros, $\\nabla f({\\bf{x}})$ es el vector gradiente y $\\bf{H}$ es la matriz hessiana. Si se impone que  $\\nabla f ({\\bf{x}}^{(0)}) = 0$, es decir que hay un extremo en ${\\bf{x}}^{(0)}$, se obtiene el siguiente sistema de ecuaciones:\n",
      "\n",
      "$${\\bf{x}}^{(i+1)} = {\\bf{x}}^{(i)} - {\\bf{H}^{-1}}\\nabla f ({\\bf{x}}^{(i)})$$\n",
      "\n",
      "que se puede resolver de forma iterativa para obtener los valores de ${\\bf{x}}$ que corresponde a un extremo. Este m\u00e9todo\n",
      "puede aplicar para encontrar el m\u00ednimo de la funci\u00f3n $\\chi^2$ a partir de las derivadas primeras y segundas de la misma."
     ]
    },
    {
     "cell_type": "code",
     "collapsed": false,
     "input": [
      "!cd ../src; make"
     ],
     "language": "python",
     "metadata": {},
     "outputs": [
      {
       "output_type": "stream",
       "stream": "stdout",
       "text": [
        "gfortran -c -O3  mod_chi2.f90\r\n"
       ]
      },
      {
       "output_type": "stream",
       "stream": "stdout",
       "text": [
        "gfortran -c -O3  mod_random.f90\r\n"
       ]
      },
      {
       "output_type": "stream",
       "stream": "stdout",
       "text": [
        "gfortran -c -O3  NRmin_mod.f90\r\n"
       ]
      },
      {
       "output_type": "stream",
       "stream": "stdout",
       "text": [
        "gfortran -c -O3  NRmin.f90\r\n"
       ]
      },
      {
       "output_type": "stream",
       "stream": "stdout",
       "text": [
        "gfortran -o NRmin.bin -O3  mod_chi2.o mod_random.o NRmin_mod.o NRmin.o\r\n"
       ]
      }
     ],
     "prompt_number": 4
    },
    {
     "cell_type": "code",
     "collapsed": false,
     "input": [
      "!cd ../src; ./NRmin.bin"
     ],
     "language": "python",
     "metadata": {},
     "outputs": [
      {
       "output_type": "stream",
       "stream": "stdout",
       "text": [
        " --- importing data ---\r\n",
        " Opening file: ../data/exp.dat     \r\n",
        " # data entries          25\r\n",
        " --- minimization of \\Chi^2 by Newton-Raphson ---\r\n",
        "step    0: a =  1.00000  b =  1.00000 \\Chi^2 =   41.448\r\n",
        "step    1: a =  0.70055  b =  1.77710 \\Chi^2 =   17.354\r\n",
        "step    2: a =  0.71956  b =  1.73214 \\Chi^2 =   17.253\r\n",
        "step    3: a =  0.71976  b =  1.73195 \\Chi^2 =   17.253\r\n",
        "step    4: a =  0.71976  b =  1.73195 \\Chi^2 =   17.253\r\n",
        " convergence reached!\r\n",
        " --- estimating covariance matrix ---\r\n",
        " --- NR minimization final results --- \r\n",
        "a parameter: 0.71976 \\pm 0.11895\r\n",
        "b parameter: 1.73195 \\pm 0.15721\r\n",
        " --- goodness of fit ---\r\n",
        "Chi^2 value 17.25\r\n",
        "Degrees of freedom:  23\r\n",
        "Probability chi^2(real)>chi^2(obtained): 0.797\r\n",
        " --- MC simulation ---\r\n",
        " # simulations:       100000\r\n"
       ]
      },
      {
       "output_type": "stream",
       "stream": "stdout",
       "text": [
        "a parameter -> bias = -0.00264 error= 0.11788\r\n",
        "b parameter -> bias = -0.00640 error= 0.15758\r\n",
        " --- end of the program ---\r\n"
       ]
      }
     ],
     "prompt_number": 2
    }
   ],
   "metadata": {}
  }
 ]
}