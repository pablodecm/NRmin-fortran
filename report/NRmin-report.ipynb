{
 "metadata": {
  "name": "",
  "signature": "sha256:e37c6e23b9bd4f9a5b51347a90c73f3b2a1be732419d5160817fc7b678953231"
 },
 "nbformat": 3,
 "nbformat_minor": 0,
 "worksheets": [
  {
   "cells": [
    {
     "cell_type": "heading",
     "level": 1,
     "metadata": {},
     "source": [
      "Introducci\u00f3n"
     ]
    },
    {
     "cell_type": "markdown",
     "metadata": {},
     "source": [
      "El objetivo de este trabajo es la implementaci\u00f3n de un programa para el ajuste no lineal por m\u00ednimos cuadrados mediante minimizaci\u00f3n del $\\chi^2$\n",
      "por el m\u00e9todo de Newton-Raphson.  Este programa se va a utiizar para ajustar unos datos experimentales a una funci\u00f3n $y=\\exp(ax)+bx^2$ para estimar los par\u00e1metros $a$ y $b$ \u00f3ptimos. Adicionalmente, se van a estimar las incertumbres del ajuste a partir de la matriz de informaci\u00f3n de Fisher y simulaciones Monte Carlo."
     ]
    },
    {
     "cell_type": "heading",
     "level": 1,
     "metadata": {},
     "source": [
      "Fundamento Te\u00f3rico"
     ]
    },
    {
     "cell_type": "markdown",
     "metadata": {},
     "source": [
      "Sea un conjunto de $N$ medidas $y_i$ (con errores $\\sigma_i$) para valores $x_i$ a los que se les quiere ajustar una funci\u00f3n $f(x_i;a_j)$ que predice los valores de $y_i$, donde $a_j$ con\n",
      "$j=1,..,p$ son par\u00e1metros desconocidos. Los valores \u00f3ptimos de los par\u00e1metros $a_j$, de acuerdo con el m\u00e9todo de m\u00ednimos cuadrados, para el ajuste se pueden estimar minimizando el $\\chi^2$:\n",
      "\n",
      "$$\\chi^2 = \\sum_{i=1}^{N} \\frac{[y_i -f(x_i;a_j)]^2}{\\sigma_i^2} $$\n",
      "\n",
      "que sigue aproximadamente una distribuci\u00f3n $\\chi^2$ con $N-p$ grados de libertad, hecho que puede utilizarse para evaluar la bondad del ajuste\n",
      "como la probabilidad del $\\chi^2$ real sea mayor que el $\\chi2$ observado.\n",
      "\n",
      "La minimizaci\u00f3n para funciones sencillas se puede realizar de forma anal\u00edtica, sin embargo, en general se requiere la minimizaci\u00f3n num\u00e9rica del $\\chi^2$ para la obtenci\u00f3n de los\n",
      "par\u00e1metros. Existen multitud de m\u00e9todos de minimizaci\u00f3n num\u00e9rica, aunque el m\u00e9todo que se va utilizar en este trabajo es el Newton-Raphson (NR) que sirve para buscar el cero de la funci\u00f3n, por lo que se puede utilizar para buscar el cero de\n",
      "del gradiente de $\\chi^2$ con respecto a los par\u00e1metros.\n",
      "\n",
      "Sup\u00f3ngase una funci\u00f3n $f(x_1,...,x_n)$ que depende de varios\n",
      "parametros $\\bf{x}$, se puede desarrollar en serie en primer orden alrededor de un valor inicial $\\bf{x^{(0)}}$ seg\u00fan:\n",
      "\n",
      "$$\\nabla f({\\bf{x}}) = \\nabla f ({\\bf{x}}^{(0)}) \n",
      "+ \\bf{H}({\\bf{x}}- {\\bf{x}}^{(0)}) ~+~ ... $$ \n",
      "\n",
      "en donde $\\bf{x}$ es el vector de par\u00e1metros, $\\nabla f({\\bf{x}})$ es el vector gradiente y $\\bf{H}$ es la matriz hessiana. Si se impone que  $\\nabla f ({\\bf{x}}^{(0)}) = 0$, es decir que hay un extremo en ${\\bf{x}}^{(0)}$, se obtiene el siguiente sistema de ecuaciones:\n",
      "\n",
      "$${\\bf{x}}^{(i+1)} = {\\bf{x}}^{(i)} - {\\bf{H}^{-1}}\\nabla f ({\\bf{x}}^{(i)})$$\n",
      "\n",
      "que se puede resolver de forma iterativa para obtener los valores de ${\\bf{x}}$ que corresponde a un extremo. Este m\u00e9todo\n",
      "puede aplicar para encontrar el m\u00ednimo de la funci\u00f3n $\\chi^2$ a partir de las derivadas primeras y segundas de la misma con respecto a los\n",
      "par\u00e1metros $a_j$.\n",
      "\n",
      "Una vez que se han estimado los valores \u00f3ptimos para los par\u00e1metros $\\hat{a}_j$, la matr\u00edz de covarianza $V$ puede obtenerse utlizando la\n",
      "matr\u00edz de informaci\u00f3n de Fisher, que se puede relacionar con matr\u00edz hessiana para los mejores valores de los par\u00e1metros obtenidos. La inversa\n",
      "de la matriz de covarianza para el $\\chi^2$ se obtiene como:\n",
      "\n",
      "$$(V^{-1})_{ij} = \\left. \\frac{1}{2} \\frac{\\partial^2 \\chi^2 }{\\partial a_i \\partial a_j } \\right|_{a_j = \\hat{a}_j}$$\n",
      "\n",
      "en donde el error de los par\u00e1metros estimados se puede obtener como la ra\u00edz cuadrada de los elementos de la diagonal de la matr\u00edz de covarianza\n",
      "$V$.\n",
      "\n",
      "Adicionalmente, en este trabajo se va a estimar el sesgo y el error en los\n",
      "par\u00e1metros utilizando simulaciones Monte Carlo. En las simulaciones\n",
      "se va suponer que los errores son gaussianos y se van a realizar un total de $N$ simulaciones. Para cada simulaci\u00f3n $s$, el valor de $y_i^s$ puede\n",
      "obtenerse como:\n",
      "\n",
      "$$y_i^s = f(x_i;a_j) + n_i^s ~{\\rm{con}}~ s=1,...,N$$\n",
      "\n",
      "en donde $n_i^s$ es el error simulado para cada punto de datos que es un n\u00famero aleatorio que sigue una distribuci\u00f3n gaussiana con una desviaci\u00f3n\n",
      "estandar $\\sigma_i$ y $a_j$ son los par\u00e1metros del modelo. El valor de los\n",
      "par\u00e1metros de ajuste $\\hat{a}_j$ puede volver a ser estimado para cada simulaci\u00f3n, a partir de los cuales se puede estimar el sesgo $b_j$ y el\n",
      "error $\\sigma({\\hat{a}_j})$:\n",
      "\n",
      "$$b_j = \\left< \\hat{a}_j^s \\right> - \\hat{a}_j^{data} $$\n",
      "\n",
      "$$\\sigma({\\hat{a}_j}) = \\sqrt{\\left< \\hat{a}_j^2 \\right> - \\left< \\hat{a}_j \\right>^2 }$$\n",
      "\n",
      "en donde $ \\left< \\right>$ indica el promedio sobre todas las simulaciones, $\\hat{a}_j^2$ es la estimacion del par\u00e1metro para cada simulaci\u00f3n y $\\hat{a}_j^{data}$ es la estimaci\u00f3n de los par\u00e1metros de los\n",
      "datos. Si el sesgo de un estimador es cero, este estan insesgado. La estimaci\u00f3n final del los par\u00e1metros se puede obtener seg\u00fan:\n",
      "\n",
      "$$a^{final}_i = (\\hat{a}_i - b_i) \\pm \\sigma(\\hat{a}_i)$$\n",
      "\n",
      "que se puede comparar con la obtenida a partir de informaci\u00f3n de Fisher."
     ]
    },
    {
     "cell_type": "heading",
     "level": 1,
     "metadata": {},
     "source": [
      "Implementaci\u00f3n"
     ]
    },
    {
     "cell_type": "markdown",
     "metadata": {},
     "source": [
      "Se ha implementado un programa de Fortran, que se adjunta con este informe, para ajustar por m\u00ednimos cuadrados una funci\u00f3n $y=\\exp(ax)+bx^2$\n",
      "a una serie de datos mediante el m\u00e9todo de Newton-Raphson de acuerdo\n",
      "con el algoritmo descrito en el apartado anterior.\n",
      "\n",
      "La mayor parte de la implementaci\u00f3n se ha realizado en forma de funciones y subroutinas en el m\u00f3dulo *NRmin_mod* (archivo *NRmin_mod.f90*). Estos\n",
      "procedimientos son invocados desde el programa *NRmin* (archivo *NRmin.f90*), en el cual se pueden configurar algunos de los par\u00e1metros de ejecuci\u00f3n como el nombre de archivo de datos, la tolerancia del ajuste, los valores iniciales de a y b o el n\u00famero de simulaciones. Aunque esta\n",
      "forma de configuraci\u00f3n tiene la desventaja de que es necesario compilar el programa cada vez que se cambian los par\u00e1metros, ahorra la necesidad de introducir los par\u00e1metros en cada ejecuci\u00f3n o desarrollar un programa para\n",
      "la lectura de un archivo de configuraci\u00f3n.\n"
     ]
    },
    {
     "cell_type": "heading",
     "level": 1,
     "metadata": {},
     "source": [
      "Compilaci\u00f3n, Ejecuci\u00f3n y Resultados"
     ]
    },
    {
     "cell_type": "markdown",
     "metadata": {},
     "source": [
      "Se ha creado un archivo Makefile para automatizar la compilaci\u00f3n de los m\u00f3dulos necesarios y la creaci\u00f3n del ejecutable, una vez que se han configurado los par\u00e1metros deseados en el el archivo *NRmin.f90*, cuya llamada se demuestra a continuaci\u00f3n:"
     ]
    },
    {
     "cell_type": "code",
     "collapsed": false,
     "input": [
      "!cd ../src; make"
     ],
     "language": "python",
     "metadata": {},
     "outputs": [
      {
       "output_type": "stream",
       "stream": "stdout",
       "text": [
        "gfortran -c -O3  mod_chi2.f90\r\n"
       ]
      },
      {
       "output_type": "stream",
       "stream": "stdout",
       "text": [
        "gfortran -c -O3  mod_random.f90\r\n"
       ]
      },
      {
       "output_type": "stream",
       "stream": "stdout",
       "text": [
        "gfortran -c -O3  NRmin_mod.f90\r\n"
       ]
      },
      {
       "output_type": "stream",
       "stream": "stdout",
       "text": [
        "gfortran -c -O3  NRmin.f90\r\n"
       ]
      },
      {
       "output_type": "stream",
       "stream": "stdout",
       "text": [
        "gfortran -o NRmin.bin -O3  mod_chi2.o mod_random.o NRmin_mod.o NRmin.o\r\n"
       ]
      }
     ],
     "prompt_number": 4
    },
    {
     "cell_type": "markdown",
     "metadata": {},
     "source": [
      "Una vez compilado el programa, se ha creado el archivo binario *NRmin.bin*, cuya ejecuci\u00f3n genera el siguiente resultado para el ajuste\n",
      "a realizar:"
     ]
    },
    {
     "cell_type": "code",
     "collapsed": false,
     "input": [
      "!cd ../src; ./NRmin.bin"
     ],
     "language": "python",
     "metadata": {},
     "outputs": [
      {
       "output_type": "stream",
       "stream": "stdout",
       "text": [
        " --- importing data ---\r\n",
        " Opening file: ../data/exp.dat     \r\n",
        " # data entries          25\r\n",
        " --- minimization of \\Chi^2 by Newton-Raphson ---\r\n",
        "step    0: a =  1.00000  b =  1.00000 \\Chi^2 =   41.448\r\n",
        "step    1: a =  0.70055  b =  1.77710 \\Chi^2 =   17.354\r\n",
        "step    2: a =  0.71956  b =  1.73214 \\Chi^2 =   17.253\r\n",
        "step    3: a =  0.71976  b =  1.73195 \\Chi^2 =   17.253\r\n",
        "step    4: a =  0.71976  b =  1.73195 \\Chi^2 =   17.253\r\n",
        " convergence reached!\r\n",
        " --- estimating covariance matrix ---\r\n",
        " --- NR minimization results --- \r\n",
        "a parameter: 0.71976 \\pm 0.11895\r\n",
        "b parameter: 1.73195 \\pm 0.15721\r\n",
        " --- goodness of fit ---\r\n",
        "Chi^2 value 17.25\r\n",
        "Degrees of freedom:  23\r\n",
        "Probability chi^2(real)>chi^2(obtained): 0.797\r\n",
        " --- MC simulation ---\r\n",
        " # simulations:       100000\r\n"
       ]
      },
      {
       "output_type": "stream",
       "stream": "stdout",
       "text": [
        "a parameter -> bias = -0.00264 error= 0.11788\r\n",
        "b parameter -> bias = -0.00640 error= 0.15758\r\n",
        " --- final results with simulation --- \r\n",
        "a parameter: 0.72240 \\pm 0.11788\r\n",
        "b parameter: 1.73835 \\pm 0.15758\r\n",
        " --- end of the program ---\r\n"
       ]
      }
     ],
     "prompt_number": 5
    },
    {
     "cell_type": "markdown",
     "metadata": {},
     "source": [
      "En este caso se han leido los datos provistos y se ha utilizado\n",
      "el m\u00e9todo de Newton-Raphson con una tolerancia de $10^{-5}$ y unos\n",
      "valores iniciales $[1.0,1,0]$ (se han comprobado otros valores iniciales para comprobar que el no se encontraba en un m\u00ednimo relativo) para $a$ y $b$. Se observa que m\u00e9todo converge muy rapidamente, en 4 iteraciones, proporcionando unos valores\n",
      "de ajuste para los par\u00e1metros de:\n",
      "\n",
      "$$ a = 0.72 \\pm 0.12 $$\n",
      "$$ b = 1.73 \\pm 0.16 $$\n",
      "\n",
      "las incertidumbres de los par\u00e1metros han sido en este caso calculadas a partir de la matrix de informaci\u00f3n de Fisher. El valor m\u00ednimo para\n",
      "el $\\chi^2 = 17.25$ para $N-p=23$ grados de libertad, lo que corresponde a una probabilidad de bondad del ajuste $p=0.797$, que es mucho mayor que\n",
      "$0.01$ por lo que se ha obtenido un buen ajuste.\n",
      "\n",
      "Se han realizado un total de 100000 simulaciones, de la forma descrita en el fundamento te\u00f3rico, para estimar valores precisos para el sesgo y error que se muestran en la salida de la ejecuci\u00f3n del programa. Los valores obtenidos para el sesgo son peque\u00f1os ($b_1 \\approx -0.003$ y $b_2 \\approx -0.006$) pero no se puede considerar que el estimador este insesgado. Los errores estimados a partir de la simulaci\u00f3n han sido de $\\sigma(a) \\approx 0.12$ y $\\sigma(b) \\approx 0.16$ que coinciden con estimados a partir de la matr\u00edz de Fisher por lo que se comprueba la validez de este m\u00e9todo."
     ]
    },
    {
     "cell_type": "markdown",
     "metadata": {},
     "source": [
      "A continuaci\u00f3n, se presentan los datos experimentales conjuntamente con el modelo a ajustar utilzando los par\u00e1metros obtenidos por el programa desarrollado. La visualizaci\u00f3n provista se ha realizado en Python, con ayuda de las bibliotecas de software NumPy y Matplotlib."
     ]
    },
    {
     "cell_type": "code",
     "collapsed": false,
     "input": [
      "%matplotlib inline\n",
      "import numpy as np\n",
      "import matplotlib.pyplot as plt\n",
      "# import and plot data\n",
      "dat = np.genfromtxt(\"../data/exp.dat\")\n",
      "plt.figure(figsize=(12.0,8.0))\n",
      "plt.errorbar(dat[:,0],dat[:,1],dat[:,2], fmt=\".k\")\n",
      "plt.xlabel(\"x\")\n",
      "plt.ylabel(\"y\")\n",
      "# generate model data\n",
      "a = 0.72 # /pm 0.12\n",
      "b = 1.73 # /pm 0.16\n",
      "x = np.linspace(np.min(dat[:,0]),np.max(dat[:,0]), 1000)\n",
      "plt.plot(x, np.exp(x*a)+b*x**2, \"--r\")"
     ],
     "language": "python",
     "metadata": {},
     "outputs": [
      {
       "metadata": {},
       "output_type": "pyout",
       "prompt_number": 23,
       "text": [
        "[<matplotlib.lines.Line2D at 0x10b1d7450>]"
       ]
      },
      {
       "metadata": {},
       "output_type": "display_data",
       "png": "[encoded data removed]",
       "text": [
        "<matplotlib.figure.Figure at 0x10afb3b10>"
       ]
      }
     ],
     "prompt_number": 23
    },
    {
     "cell_type": "markdown",
     "metadata": {},
     "source": [
      "Se observa, como se esperaba dado el alto valor de la bondad del ajuste, que los par\u00e1metros obtenidos ajustan bien los datos experimentales a partir del modelo propuesto."
     ]
    },
    {
     "cell_type": "heading",
     "level": 1,
     "metadata": {},
     "source": [
      "Conclusi\u00f3n"
     ]
    },
    {
     "cell_type": "markdown",
     "metadata": {},
     "source": [
      "Se ha implementado existosamente un programa en Fortran para el ajuste de una funci\u00f3n no lineal a unos datos experimentales mediante minimizaci\u00f3n del $\\chi^2$ por m\u00e9todo de Newton-Raphson. Las incertidumbres de los par\u00e1metros han sido obtenidas tanto a partir de la matr\u00edz de informaci\u00f3n de Fisher como de simulaci\u00f3nes Monte Carlo.\n",
      "\n",
      "Se ha obtenido un valor \u00f3ptimo de los par\u00e1metros para los datos provistos de $ a = 0.72 \\pm 0.12 $ y $ b = 1.73 \\pm 0.16 $. Los errores obtenidos\n",
      "mediante simulaciones coinciden con los obtenidos a partir de la matr\u00edz de Fisher.\n"
     ]
    }
   ],
   "metadata": {}
  }
 ]
}